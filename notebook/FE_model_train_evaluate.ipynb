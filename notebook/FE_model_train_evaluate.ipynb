{
 "cells": [
  {
   "cell_type": "markdown",
   "id": "04a6e272",
   "metadata": {},
   "source": [
    "## **Data Pre-Processing**"
   ]
  },
  {
   "cell_type": "markdown",
   "id": "6aa0a64b",
   "metadata": {},
   "source": [
    "Import packages and dataset"
   ]
  },
  {
   "cell_type": "code",
   "execution_count": 1,
   "id": "b5a81288",
   "metadata": {},
   "outputs": [
    {
     "name": "stdout",
     "output_type": "stream",
     "text": [
      "<class 'pandas.core.frame.DataFrame'>\n",
      "RangeIndex: 145460 entries, 0 to 145459\n",
      "Data columns (total 23 columns):\n",
      " #   Column         Non-Null Count   Dtype  \n",
      "---  ------         --------------   -----  \n",
      " 0   Date           145460 non-null  object \n",
      " 1   Location       145460 non-null  object \n",
      " 2   MinTemp        143975 non-null  float64\n",
      " 3   MaxTemp        144199 non-null  float64\n",
      " 4   Rainfall       142199 non-null  float64\n",
      " 5   Evaporation    82670 non-null   float64\n",
      " 6   Sunshine       75625 non-null   float64\n",
      " 7   WindGustDir    135134 non-null  object \n",
      " 8   WindGustSpeed  135197 non-null  float64\n",
      " 9   WindDir9am     134894 non-null  object \n",
      " 10  WindDir3pm     141232 non-null  object \n",
      " 11  WindSpeed9am   143693 non-null  float64\n",
      " 12  WindSpeed3pm   142398 non-null  float64\n",
      " 13  Humidity9am    142806 non-null  float64\n",
      " 14  Humidity3pm    140953 non-null  float64\n",
      " 15  Pressure9am    130395 non-null  float64\n",
      " 16  Pressure3pm    130432 non-null  float64\n",
      " 17  Cloud9am       89572 non-null   float64\n",
      " 18  Cloud3pm       86102 non-null   float64\n",
      " 19  Temp9am        143693 non-null  float64\n",
      " 20  Temp3pm        141851 non-null  float64\n",
      " 21  RainToday      142199 non-null  object \n",
      " 22  RainTomorrow   142193 non-null  object \n",
      "dtypes: float64(16), object(7)\n",
      "memory usage: 25.5+ MB\n"
     ]
    }
   ],
   "source": [
    "import pandas as pd\n",
    "import numpy as np\n",
    "import matplotlib.pyplot as plt\n",
    "import seaborn as sns\n",
    "import warnings\n",
    "warnings.filterwarnings(\"ignore\")\n",
    "%matplotlib inline\n",
    "\n",
    "df = pd.read_csv(\"weatherAUS.csv\")\n",
    "df.info()"
   ]
  },
  {
   "cell_type": "markdown",
   "id": "5af85483",
   "metadata": {},
   "source": [
    "### **Data Cleaning**\n",
    "\n",
    "Steps:\n",
    "1. Handling Missing Values and Multicollinearity Features\n",
    "2. Handling Duplicates\n",
    "3. Handling Outliers"
   ]
  },
  {
   "cell_type": "markdown",
   "id": "83bdca7b",
   "metadata": {},
   "source": [
    "#### **Handling Missing Values and Multicollinearity Features**\n",
    "\n",
    "Based on eda notebooks, some features need to be dropped due to missing values and multicollinearity. So, let's drop the mentioned features."
   ]
  },
  {
   "cell_type": "code",
   "execution_count": 2,
   "id": "06915219",
   "metadata": {},
   "outputs": [],
   "source": [
    "df = df.drop(columns=[\"Date\", \"MinTemp\", \"MaxTemp\", \"Sunshine\", \n",
    "                      \"Evaporation\", \"Cloud9am\", \"Cloud3pm\", \"Pressure9am\", \n",
    "                      \"Pressure3pm\", \"Temp9am\", \"Temp3pm\"])"
   ]
  },
  {
   "cell_type": "code",
   "execution_count": 3,
   "id": "f5e101b9",
   "metadata": {},
   "outputs": [],
   "source": [
    "direction_to_angle = {\n",
    "    'N': 0, 'NNE': 22.5, 'NE': 45, 'ENE': 67.5,\n",
    "    'E': 90, 'ESE': 112.5, 'SE': 135, 'SSE': 157.5,\n",
    "    'S': 180, 'SSW': 202.5, 'SW': 225, 'WSW': 247.5,\n",
    "    'W': 270, 'WNW': 292.5, 'NW': 315, 'NNW': 337.5\n",
    "}\n",
    "\n",
    "df[\"WindGustAngle\"] = df[\"WindGustDir\"].map(direction_to_angle)\n",
    "df[\"WindAngle9am\"] = df[\"WindDir9am\"].map(direction_to_angle)\n",
    "df[\"WindAngle3pm\"] = df[\"WindDir3pm\"].map(direction_to_angle)\n",
    "df = df.drop(columns=[\"WindGustDir\", \"WindDir9am\", \"WindDir3pm\"])"
   ]
  },
  {
   "cell_type": "code",
   "execution_count": 4,
   "id": "33cf86c6",
   "metadata": {},
   "outputs": [
    {
     "name": "stdout",
     "output_type": "stream",
     "text": [
      "Location         0\n",
      "Rainfall         0\n",
      "WindGustSpeed    0\n",
      "WindSpeed9am     0\n",
      "WindSpeed3pm     0\n",
      "Humidity9am      0\n",
      "Humidity3pm      0\n",
      "RainToday        0\n",
      "RainTomorrow     0\n",
      "WindGustAngle    0\n",
      "WindAngle9am     0\n",
      "WindAngle3pm     0\n",
      "dtype: int64\n"
     ]
    }
   ],
   "source": [
    "numerical_features = df.select_dtypes(include=np.number).columns.to_list()\n",
    "categorical_features = df.select_dtypes(include=\"O\").columns.to_list()\n",
    "\n",
    "df[numerical_features] = df[numerical_features].fillna(df[numerical_features].mean())\n",
    "df = df.dropna(how=\"any\")\n",
    "print(df.isnull().sum())"
   ]
  },
  {
   "cell_type": "code",
   "execution_count": 5,
   "id": "2228f6de",
   "metadata": {},
   "outputs": [
    {
     "data": {
      "text/plain": [
       "(140787, 12)"
      ]
     },
     "execution_count": 5,
     "metadata": {},
     "output_type": "execute_result"
    }
   ],
   "source": [
    "df.shape"
   ]
  },
  {
   "cell_type": "markdown",
   "id": "23b6c23b",
   "metadata": {},
   "source": [
    "#### **Handling Duplicated Data**"
   ]
  },
  {
   "cell_type": "code",
   "execution_count": 6,
   "id": "636ff5a4",
   "metadata": {},
   "outputs": [
    {
     "data": {
      "text/plain": [
       "np.int64(302)"
      ]
     },
     "execution_count": 6,
     "metadata": {},
     "output_type": "execute_result"
    }
   ],
   "source": [
    "df.duplicated().sum()"
   ]
  },
  {
   "cell_type": "code",
   "execution_count": 7,
   "id": "3d1e7085",
   "metadata": {},
   "outputs": [
    {
     "data": {
      "text/plain": [
       "np.int64(0)"
      ]
     },
     "execution_count": 7,
     "metadata": {},
     "output_type": "execute_result"
    }
   ],
   "source": [
    "df = df.drop_duplicates()\n",
    "df.duplicated().sum()"
   ]
  },
  {
   "cell_type": "markdown",
   "id": "1e4cf6e8",
   "metadata": {},
   "source": [
    "#### **Handling Outliers**\n",
    "\n",
    "Based on eda notebooks, outlier exist on some features. So, let's detect with IQR method then handle it."
   ]
  },
  {
   "cell_type": "code",
   "execution_count": 8,
   "id": "65fe6a27",
   "metadata": {},
   "outputs": [
    {
     "name": "stdout",
     "output_type": "stream",
     "text": [
      "Rainfall         25227\n",
      "WindGustSpeed     5314\n",
      "WindSpeed9am      1715\n",
      "WindSpeed3pm      2420\n",
      "Humidity9am       1414\n",
      "Humidity3pm          0\n",
      "WindGustAngle        0\n",
      "WindAngle9am         0\n",
      "WindAngle3pm         0\n",
      "dtype: int64\n"
     ]
    }
   ],
   "source": [
    "lower = df[numerical_features].quantile(0.25)\n",
    "upper = df[numerical_features].quantile(0.75)\n",
    "IQR = upper - lower\n",
    "outlier = (df[numerical_features] < (lower - 1.5 * IQR)) | (df[numerical_features] > (upper + 1.5 * IQR))\n",
    "print(outlier.sum())"
   ]
  },
  {
   "cell_type": "code",
   "execution_count": 9,
   "id": "9e6d6e6b",
   "metadata": {},
   "outputs": [
    {
     "data": {
      "text/html": [
       "<div>\n",
       "<style scoped>\n",
       "    .dataframe tbody tr th:only-of-type {\n",
       "        vertical-align: middle;\n",
       "    }\n",
       "\n",
       "    .dataframe tbody tr th {\n",
       "        vertical-align: top;\n",
       "    }\n",
       "\n",
       "    .dataframe thead th {\n",
       "        text-align: right;\n",
       "    }\n",
       "</style>\n",
       "<table border=\"1\" class=\"dataframe\">\n",
       "  <thead>\n",
       "    <tr style=\"text-align: right;\">\n",
       "      <th></th>\n",
       "      <th>Rainfall</th>\n",
       "      <th>WindGustSpeed</th>\n",
       "      <th>WindSpeed9am</th>\n",
       "      <th>WindSpeed3pm</th>\n",
       "      <th>Humidity9am</th>\n",
       "      <th>Humidity3pm</th>\n",
       "      <th>WindGustAngle</th>\n",
       "      <th>WindAngle9am</th>\n",
       "      <th>WindAngle3pm</th>\n",
       "    </tr>\n",
       "  </thead>\n",
       "  <tbody>\n",
       "    <tr>\n",
       "      <th>0</th>\n",
       "      <td>0.6</td>\n",
       "      <td>44.0</td>\n",
       "      <td>20.0</td>\n",
       "      <td>24.0</td>\n",
       "      <td>71.0</td>\n",
       "      <td>22.0</td>\n",
       "      <td>270.0</td>\n",
       "      <td>270.0</td>\n",
       "      <td>292.5</td>\n",
       "    </tr>\n",
       "    <tr>\n",
       "      <th>1</th>\n",
       "      <td>0.0</td>\n",
       "      <td>44.0</td>\n",
       "      <td>4.0</td>\n",
       "      <td>22.0</td>\n",
       "      <td>44.0</td>\n",
       "      <td>25.0</td>\n",
       "      <td>292.5</td>\n",
       "      <td>337.5</td>\n",
       "      <td>247.5</td>\n",
       "    </tr>\n",
       "    <tr>\n",
       "      <th>2</th>\n",
       "      <td>0.0</td>\n",
       "      <td>46.0</td>\n",
       "      <td>19.0</td>\n",
       "      <td>26.0</td>\n",
       "      <td>38.0</td>\n",
       "      <td>30.0</td>\n",
       "      <td>247.5</td>\n",
       "      <td>270.0</td>\n",
       "      <td>247.5</td>\n",
       "    </tr>\n",
       "    <tr>\n",
       "      <th>3</th>\n",
       "      <td>0.0</td>\n",
       "      <td>24.0</td>\n",
       "      <td>11.0</td>\n",
       "      <td>9.0</td>\n",
       "      <td>45.0</td>\n",
       "      <td>16.0</td>\n",
       "      <td>45.0</td>\n",
       "      <td>135.0</td>\n",
       "      <td>90.0</td>\n",
       "    </tr>\n",
       "    <tr>\n",
       "      <th>4</th>\n",
       "      <td>1.0</td>\n",
       "      <td>41.0</td>\n",
       "      <td>7.0</td>\n",
       "      <td>20.0</td>\n",
       "      <td>82.0</td>\n",
       "      <td>33.0</td>\n",
       "      <td>270.0</td>\n",
       "      <td>67.5</td>\n",
       "      <td>315.0</td>\n",
       "    </tr>\n",
       "    <tr>\n",
       "      <th>...</th>\n",
       "      <td>...</td>\n",
       "      <td>...</td>\n",
       "      <td>...</td>\n",
       "      <td>...</td>\n",
       "      <td>...</td>\n",
       "      <td>...</td>\n",
       "      <td>...</td>\n",
       "      <td>...</td>\n",
       "      <td>...</td>\n",
       "    </tr>\n",
       "    <tr>\n",
       "      <th>145454</th>\n",
       "      <td>0.0</td>\n",
       "      <td>31.0</td>\n",
       "      <td>15.0</td>\n",
       "      <td>13.0</td>\n",
       "      <td>59.0</td>\n",
       "      <td>27.0</td>\n",
       "      <td>90.0</td>\n",
       "      <td>112.5</td>\n",
       "      <td>90.0</td>\n",
       "    </tr>\n",
       "    <tr>\n",
       "      <th>145455</th>\n",
       "      <td>0.0</td>\n",
       "      <td>31.0</td>\n",
       "      <td>13.0</td>\n",
       "      <td>11.0</td>\n",
       "      <td>51.0</td>\n",
       "      <td>24.0</td>\n",
       "      <td>90.0</td>\n",
       "      <td>135.0</td>\n",
       "      <td>67.5</td>\n",
       "    </tr>\n",
       "    <tr>\n",
       "      <th>145456</th>\n",
       "      <td>0.0</td>\n",
       "      <td>22.0</td>\n",
       "      <td>13.0</td>\n",
       "      <td>9.0</td>\n",
       "      <td>56.0</td>\n",
       "      <td>21.0</td>\n",
       "      <td>337.5</td>\n",
       "      <td>135.0</td>\n",
       "      <td>0.0</td>\n",
       "    </tr>\n",
       "    <tr>\n",
       "      <th>145457</th>\n",
       "      <td>0.0</td>\n",
       "      <td>37.0</td>\n",
       "      <td>9.0</td>\n",
       "      <td>9.0</td>\n",
       "      <td>53.0</td>\n",
       "      <td>24.0</td>\n",
       "      <td>0.0</td>\n",
       "      <td>135.0</td>\n",
       "      <td>292.5</td>\n",
       "    </tr>\n",
       "    <tr>\n",
       "      <th>145458</th>\n",
       "      <td>0.0</td>\n",
       "      <td>28.0</td>\n",
       "      <td>13.0</td>\n",
       "      <td>7.0</td>\n",
       "      <td>51.0</td>\n",
       "      <td>24.0</td>\n",
       "      <td>135.0</td>\n",
       "      <td>157.5</td>\n",
       "      <td>0.0</td>\n",
       "    </tr>\n",
       "  </tbody>\n",
       "</table>\n",
       "<p>140485 rows × 9 columns</p>\n",
       "</div>"
      ],
      "text/plain": [
       "        Rainfall  WindGustSpeed  WindSpeed9am  WindSpeed3pm  Humidity9am  \\\n",
       "0            0.6           44.0          20.0          24.0         71.0   \n",
       "1            0.0           44.0           4.0          22.0         44.0   \n",
       "2            0.0           46.0          19.0          26.0         38.0   \n",
       "3            0.0           24.0          11.0           9.0         45.0   \n",
       "4            1.0           41.0           7.0          20.0         82.0   \n",
       "...          ...            ...           ...           ...          ...   \n",
       "145454       0.0           31.0          15.0          13.0         59.0   \n",
       "145455       0.0           31.0          13.0          11.0         51.0   \n",
       "145456       0.0           22.0          13.0           9.0         56.0   \n",
       "145457       0.0           37.0           9.0           9.0         53.0   \n",
       "145458       0.0           28.0          13.0           7.0         51.0   \n",
       "\n",
       "        Humidity3pm  WindGustAngle  WindAngle9am  WindAngle3pm  \n",
       "0              22.0          270.0         270.0         292.5  \n",
       "1              25.0          292.5         337.5         247.5  \n",
       "2              30.0          247.5         270.0         247.5  \n",
       "3              16.0           45.0         135.0          90.0  \n",
       "4              33.0          270.0          67.5         315.0  \n",
       "...             ...            ...           ...           ...  \n",
       "145454         27.0           90.0         112.5          90.0  \n",
       "145455         24.0           90.0         135.0          67.5  \n",
       "145456         21.0          337.5         135.0           0.0  \n",
       "145457         24.0            0.0         135.0         292.5  \n",
       "145458         24.0          135.0         157.5           0.0  \n",
       "\n",
       "[140485 rows x 9 columns]"
      ]
     },
     "execution_count": 9,
     "metadata": {},
     "output_type": "execute_result"
    }
   ],
   "source": [
    "df_cleaned = df[numerical_features].clip(lower=df[numerical_features].quantile(0.01), upper=df[numerical_features].quantile(0.99), axis=1)\n",
    "df_cleaned"
   ]
  },
  {
   "cell_type": "markdown",
   "id": "bb2cd6d5",
   "metadata": {},
   "source": [
    "### Data Transformation"
   ]
  },
  {
   "cell_type": "code",
   "execution_count": 10,
   "id": "2e12419d",
   "metadata": {},
   "outputs": [],
   "source": [
    "from sklearn.preprocessing import StandardScaler, OneHotEncoder, LabelEncoder\n",
    "from sklearn.compose import ColumnTransformer\n",
    "\n",
    "X = df.drop(columns=[\"RainToday\", \"RainTomorrow\"], axis=1)\n",
    "y = df[\"RainTomorrow\"]\n",
    "\n",
    "num_features = X.select_dtypes(include=np.number).columns.to_list()\n",
    "cat_features = X.select_dtypes(include=\"O\").columns.to_list()\n",
    "\n",
    "numeric_transformer = StandardScaler()\n",
    "one_hot_transformer = OneHotEncoder(sparse_output=False)\n",
    "label_transformer = LabelEncoder()\n",
    "\n",
    "preprocessor = ColumnTransformer(\n",
    "    [\n",
    "        (\"StandarScaler\", numeric_transformer, num_features),\n",
    "        (\"XOneHotEncoder\", one_hot_transformer, cat_features)\n",
    "    ]\n",
    ")"
   ]
  },
  {
   "cell_type": "code",
   "execution_count": 11,
   "id": "b0c28295",
   "metadata": {},
   "outputs": [],
   "source": [
    "X = preprocessor.fit_transform(X)"
   ]
  },
  {
   "cell_type": "code",
   "execution_count": 12,
   "id": "ddf2577b",
   "metadata": {},
   "outputs": [
    {
     "data": {
      "text/plain": [
       "array([[-0.20711502,  0.3062123 ,  0.67728044, ...,  0.        ,\n",
       "         0.        ,  0.        ],\n",
       "       [-0.27792368,  0.3062123 , -1.1303694 , ...,  0.        ,\n",
       "         0.        ,  0.        ],\n",
       "       [-0.27792368,  0.45835141,  0.56430233, ...,  0.        ,\n",
       "         0.        ,  0.        ],\n",
       "       ...,\n",
       "       [-0.27792368, -1.36731787, -0.11356637, ...,  0.        ,\n",
       "         0.        ,  0.        ],\n",
       "       [-0.27792368, -0.22627457, -0.56547883, ...,  0.        ,\n",
       "         0.        ,  0.        ],\n",
       "       [-0.27792368, -0.91090055, -0.11356637, ...,  0.        ,\n",
       "         0.        ,  0.        ]], shape=(140485, 58))"
      ]
     },
     "execution_count": 12,
     "metadata": {},
     "output_type": "execute_result"
    }
   ],
   "source": [
    "X"
   ]
  },
  {
   "cell_type": "code",
   "execution_count": 13,
   "id": "51608e46",
   "metadata": {},
   "outputs": [],
   "source": [
    "y = label_transformer.fit_transform(y)"
   ]
  },
  {
   "cell_type": "markdown",
   "id": "b9fcba7c",
   "metadata": {},
   "source": [
    "### Data Splitting"
   ]
  },
  {
   "cell_type": "code",
   "execution_count": 14,
   "id": "0dbbb6f8",
   "metadata": {},
   "outputs": [],
   "source": [
    "from imblearn.combine import SMOTEENN\n",
    "\n",
    "smt = SMOTEENN(random_state=42, sampling_strategy='minority')\n",
    "X_res, y_res = smt.fit_resample(X, y)"
   ]
  },
  {
   "cell_type": "code",
   "execution_count": 15,
   "id": "54ca3b41",
   "metadata": {},
   "outputs": [],
   "source": [
    "from sklearn.model_selection import train_test_split\n",
    "\n",
    "X_train, X_test, y_train, y_test = train_test_split(X_res, y_res, test_size=0.2, random_state=42)"
   ]
  },
  {
   "cell_type": "markdown",
   "id": "bc976d84",
   "metadata": {},
   "source": [
    "### Baseline Model"
   ]
  },
  {
   "cell_type": "code",
   "execution_count": 16,
   "id": "9ac23fb0",
   "metadata": {},
   "outputs": [],
   "source": [
    "from sklearn.ensemble import RandomForestClassifier, AdaBoostClassifier, GradientBoostingClassifier\n",
    "from sklearn.linear_model import LogisticRegression\n",
    "from sklearn.neighbors import KNeighborsClassifier\n",
    "from sklearn.tree import DecisionTreeClassifier\n",
    "from sklearn.svm import SVC\n",
    "from sklearn.metrics import accuracy_score, classification_report, ConfusionMatrixDisplay, \\\n",
    "                            precision_score, recall_score, f1_score, roc_auc_score, roc_curve\n",
    "from xgboost import XGBClassifier\n",
    "from catboost import CatBoostClassifier"
   ]
  },
  {
   "cell_type": "code",
   "execution_count": 17,
   "id": "3152a201",
   "metadata": {},
   "outputs": [],
   "source": [
    "models = {\n",
    "    \"Random Forest\": RandomForestClassifier(),\n",
    "    \"Decision Tree\": DecisionTreeClassifier(),\n",
    "    \"Gradient Boosting\": GradientBoostingClassifier(),\n",
    "    \"Logistic Regression\": LogisticRegression(),\n",
    "    \"K-Neighbors Classifier\": KNeighborsClassifier(),\n",
    "    \"XGBoosting Classifier\": XGBClassifier(),\n",
    "    \"CatBoosting Classifier\": CatBoostClassifier(verbose=False),\n",
    "    \"Support Vector Classifier\": SVC(),\n",
    "    \"AdaBoost Classifier\": AdaBoostClassifier()\n",
    "}"
   ]
  },
  {
   "cell_type": "code",
   "execution_count": 18,
   "id": "101329c7",
   "metadata": {},
   "outputs": [],
   "source": [
    "def evaluate_model(y_true, y_pred):\n",
    "    acc = accuracy_score(y_true, y_pred)\n",
    "    f1 = f1_score(y_true, y_pred)\n",
    "    precision = precision_score(y_true, y_pred)\n",
    "    recall = recall_score(y_true, y_pred)\n",
    "    roc_auc = roc_auc_score(y_true, y_pred)\n",
    "    return acc, f1, precision, recall, roc_auc"
   ]
  },
  {
   "cell_type": "code",
   "execution_count": 21,
   "id": "14ae6852",
   "metadata": {},
   "outputs": [],
   "source": [
    "def train_model(X, y, models) -> pd.DataFrame:\n",
    "    \"\"\"_summary_\n",
    "\n",
    "    Args:\n",
    "        X (_type_): _description_\n",
    "        y (_type_): _description_\n",
    "        models (_type_): _description_\n",
    "\n",
    "    Returns:\n",
    "        pd.DataFrame: _description_\n",
    "    \"\"\"\n",
    "    X_train, X_test, y_train, y_test = train_test_split(X, y, test_size=0.2, random_state=42)\n",
    "    \n",
    "    results = []\n",
    "    \n",
    "    for name, model in models.items():\n",
    "        model.fit(X_train, y_train)\n",
    "        \n",
    "        y_train_pred = model.predict(X_train)\n",
    "        y_test_pred = model.predict(X_test)\n",
    "        \n",
    "        train_acc, train_f1, train_precision, train_recall, train_rocauc = evaluate_model(\n",
    "            y_train, y_train_pred\n",
    "        )\n",
    "        \n",
    "        test_acc, test_f1, test_precision, test_recall, test_rocauc = evaluate_model(\n",
    "            y_test, y_test_pred\n",
    "        )\n",
    "        \n",
    "        results.append({\n",
    "            \"Model\": name,\n",
    "            \"Train Accuracy\": train_acc,\n",
    "            \"Train F1\": train_f1,\n",
    "            \"Train Precision\": train_precision,\n",
    "            \"Train Recall\": train_recall,\n",
    "            \"Train ROC-AUC\": train_rocauc,\n",
    "            \"Test Accuracy\": test_acc,\n",
    "            \"Test F1\": test_f1,\n",
    "            \"Test Precision\": test_precision,\n",
    "            \"Test Recall\": test_recall,\n",
    "            \"Test ROC-AUC\": test_rocauc,\n",
    "        })\n",
    "    \n",
    "    report = pd.DataFrame(results).sort_values(by=[\"Test Accuracy\"], ascending=False)\n",
    "    return report"
   ]
  },
  {
   "cell_type": "code",
   "execution_count": 22,
   "id": "444b7016",
   "metadata": {},
   "outputs": [],
   "source": [
    "base_model_report = train_model(X=X_res, y=y_res, models=models)"
   ]
  },
  {
   "cell_type": "code",
   "execution_count": 23,
   "id": "41d1a040",
   "metadata": {},
   "outputs": [
    {
     "data": {
      "text/html": [
       "<div>\n",
       "<style scoped>\n",
       "    .dataframe tbody tr th:only-of-type {\n",
       "        vertical-align: middle;\n",
       "    }\n",
       "\n",
       "    .dataframe tbody tr th {\n",
       "        vertical-align: top;\n",
       "    }\n",
       "\n",
       "    .dataframe thead th {\n",
       "        text-align: right;\n",
       "    }\n",
       "</style>\n",
       "<table border=\"1\" class=\"dataframe\">\n",
       "  <thead>\n",
       "    <tr style=\"text-align: right;\">\n",
       "      <th></th>\n",
       "      <th>Model</th>\n",
       "      <th>Train Accuracy</th>\n",
       "      <th>Train F1</th>\n",
       "      <th>Train Precision</th>\n",
       "      <th>Train Recall</th>\n",
       "      <th>Train ROC-AUC</th>\n",
       "      <th>Test Accuracy</th>\n",
       "      <th>Test F1</th>\n",
       "      <th>Test Precision</th>\n",
       "      <th>Test Recall</th>\n",
       "      <th>Test ROC-AUC</th>\n",
       "    </tr>\n",
       "  </thead>\n",
       "  <tbody>\n",
       "    <tr>\n",
       "      <th>4</th>\n",
       "      <td>K-Neighbors Classifier</td>\n",
       "      <td>0.981758</td>\n",
       "      <td>0.984076</td>\n",
       "      <td>0.974563</td>\n",
       "      <td>0.993778</td>\n",
       "      <td>0.979890</td>\n",
       "      <td>0.964588</td>\n",
       "      <td>0.969515</td>\n",
       "      <td>0.954658</td>\n",
       "      <td>0.984842</td>\n",
       "      <td>0.961193</td>\n",
       "    </tr>\n",
       "    <tr>\n",
       "      <th>0</th>\n",
       "      <td>Random Forest</td>\n",
       "      <td>1.000000</td>\n",
       "      <td>1.000000</td>\n",
       "      <td>1.000000</td>\n",
       "      <td>1.000000</td>\n",
       "      <td>1.000000</td>\n",
       "      <td>0.956814</td>\n",
       "      <td>0.962295</td>\n",
       "      <td>0.960796</td>\n",
       "      <td>0.963798</td>\n",
       "      <td>0.955644</td>\n",
       "    </tr>\n",
       "    <tr>\n",
       "      <th>6</th>\n",
       "      <td>CatBoosting Classifier</td>\n",
       "      <td>0.964907</td>\n",
       "      <td>0.968666</td>\n",
       "      <td>0.981356</td>\n",
       "      <td>0.956300</td>\n",
       "      <td>0.966244</td>\n",
       "      <td>0.955951</td>\n",
       "      <td>0.960934</td>\n",
       "      <td>0.974760</td>\n",
       "      <td>0.947495</td>\n",
       "      <td>0.957368</td>\n",
       "    </tr>\n",
       "    <tr>\n",
       "      <th>5</th>\n",
       "      <td>XGBoosting Classifier</td>\n",
       "      <td>0.957543</td>\n",
       "      <td>0.962110</td>\n",
       "      <td>0.974216</td>\n",
       "      <td>0.950301</td>\n",
       "      <td>0.958668</td>\n",
       "      <td>0.946837</td>\n",
       "      <td>0.952921</td>\n",
       "      <td>0.965165</td>\n",
       "      <td>0.940983</td>\n",
       "      <td>0.947818</td>\n",
       "    </tr>\n",
       "    <tr>\n",
       "      <th>1</th>\n",
       "      <td>Decision Tree</td>\n",
       "      <td>1.000000</td>\n",
       "      <td>1.000000</td>\n",
       "      <td>1.000000</td>\n",
       "      <td>1.000000</td>\n",
       "      <td>1.000000</td>\n",
       "      <td>0.912437</td>\n",
       "      <td>0.923545</td>\n",
       "      <td>0.922154</td>\n",
       "      <td>0.924940</td>\n",
       "      <td>0.910342</td>\n",
       "    </tr>\n",
       "    <tr>\n",
       "      <th>2</th>\n",
       "      <td>Gradient Boosting</td>\n",
       "      <td>0.899748</td>\n",
       "      <td>0.911166</td>\n",
       "      <td>0.915965</td>\n",
       "      <td>0.906418</td>\n",
       "      <td>0.898712</td>\n",
       "      <td>0.897605</td>\n",
       "      <td>0.909716</td>\n",
       "      <td>0.917329</td>\n",
       "      <td>0.902229</td>\n",
       "      <td>0.896830</td>\n",
       "    </tr>\n",
       "    <tr>\n",
       "      <th>7</th>\n",
       "      <td>Support Vector Classifier</td>\n",
       "      <td>0.901759</td>\n",
       "      <td>0.912424</td>\n",
       "      <td>0.922837</td>\n",
       "      <td>0.902243</td>\n",
       "      <td>0.901683</td>\n",
       "      <td>0.896503</td>\n",
       "      <td>0.908492</td>\n",
       "      <td>0.918677</td>\n",
       "      <td>0.898531</td>\n",
       "      <td>0.896164</td>\n",
       "    </tr>\n",
       "    <tr>\n",
       "      <th>8</th>\n",
       "      <td>AdaBoost Classifier</td>\n",
       "      <td>0.851566</td>\n",
       "      <td>0.867357</td>\n",
       "      <td>0.879453</td>\n",
       "      <td>0.855590</td>\n",
       "      <td>0.850941</td>\n",
       "      <td>0.849029</td>\n",
       "      <td>0.865846</td>\n",
       "      <td>0.880077</td>\n",
       "      <td>0.852068</td>\n",
       "      <td>0.848520</td>\n",
       "    </tr>\n",
       "    <tr>\n",
       "      <th>3</th>\n",
       "      <td>Logistic Regression</td>\n",
       "      <td>0.842184</td>\n",
       "      <td>0.859702</td>\n",
       "      <td>0.867089</td>\n",
       "      <td>0.852440</td>\n",
       "      <td>0.840591</td>\n",
       "      <td>0.840332</td>\n",
       "      <td>0.858791</td>\n",
       "      <td>0.868652</td>\n",
       "      <td>0.849151</td>\n",
       "      <td>0.838854</td>\n",
       "    </tr>\n",
       "  </tbody>\n",
       "</table>\n",
       "</div>"
      ],
      "text/plain": [
       "                       Model  Train Accuracy  Train F1  Train Precision  \\\n",
       "4     K-Neighbors Classifier        0.981758  0.984076         0.974563   \n",
       "0              Random Forest        1.000000  1.000000         1.000000   \n",
       "6     CatBoosting Classifier        0.964907  0.968666         0.981356   \n",
       "5      XGBoosting Classifier        0.957543  0.962110         0.974216   \n",
       "1              Decision Tree        1.000000  1.000000         1.000000   \n",
       "2          Gradient Boosting        0.899748  0.911166         0.915965   \n",
       "7  Support Vector Classifier        0.901759  0.912424         0.922837   \n",
       "8        AdaBoost Classifier        0.851566  0.867357         0.879453   \n",
       "3        Logistic Regression        0.842184  0.859702         0.867089   \n",
       "\n",
       "   Train Recall  Train ROC-AUC  Test Accuracy   Test F1  Test Precision  \\\n",
       "4      0.993778       0.979890       0.964588  0.969515        0.954658   \n",
       "0      1.000000       1.000000       0.956814  0.962295        0.960796   \n",
       "6      0.956300       0.966244       0.955951  0.960934        0.974760   \n",
       "5      0.950301       0.958668       0.946837  0.952921        0.965165   \n",
       "1      1.000000       1.000000       0.912437  0.923545        0.922154   \n",
       "2      0.906418       0.898712       0.897605  0.909716        0.917329   \n",
       "7      0.902243       0.901683       0.896503  0.908492        0.918677   \n",
       "8      0.855590       0.850941       0.849029  0.865846        0.880077   \n",
       "3      0.852440       0.840591       0.840332  0.858791        0.868652   \n",
       "\n",
       "   Test Recall  Test ROC-AUC  \n",
       "4     0.984842      0.961193  \n",
       "0     0.963798      0.955644  \n",
       "6     0.947495      0.957368  \n",
       "5     0.940983      0.947818  \n",
       "1     0.924940      0.910342  \n",
       "2     0.902229      0.896830  \n",
       "7     0.898531      0.896164  \n",
       "8     0.852068      0.848520  \n",
       "3     0.849151      0.838854  "
      ]
     },
     "execution_count": 23,
     "metadata": {},
     "output_type": "execute_result"
    }
   ],
   "source": [
    "base_model_report"
   ]
  }
 ],
 "metadata": {
  "kernelspec": {
   "display_name": "rain",
   "language": "python",
   "name": "python3"
  },
  "language_info": {
   "codemirror_mode": {
    "name": "ipython",
    "version": 3
   },
   "file_extension": ".py",
   "mimetype": "text/x-python",
   "name": "python",
   "nbconvert_exporter": "python",
   "pygments_lexer": "ipython3",
   "version": "3.11.3"
  }
 },
 "nbformat": 4,
 "nbformat_minor": 5
}
