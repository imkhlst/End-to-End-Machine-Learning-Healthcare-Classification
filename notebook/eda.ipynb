{
 "cells": [
  {
   "cell_type": "markdown",
   "id": "706524a1",
   "metadata": {},
   "source": [
    "# Healtcare Prediction Project\n",
    "### **Life Cycle of Machine Learning Project**\n",
    "\n",
    "- Understanding the Problem Statement\n",
    "- Data Collection\n",
    "- Exploratory Data Analysis\n",
    "- Data Cleaning\n",
    "- Data Pre-Processing\n",
    "- Model Training\n",
    "- Choosing best model"
   ]
  },
  {
   "cell_type": "markdown",
   "id": "ed3d360c",
   "metadata": {},
   "source": [
    "### About"
   ]
  }
 ],
 "metadata": {
  "language_info": {
   "name": "python"
  }
 },
 "nbformat": 4,
 "nbformat_minor": 5
}
